{
 "cells": [
  {
   "cell_type": "code",
   "execution_count": 21,
   "metadata": {},
   "outputs": [],
   "source": [
    "\n",
    "import os\n",
    "import pandas as pd\n",
    "import os"
   ]
  },
  {
   "cell_type": "code",
   "execution_count": 22,
   "metadata": {},
   "outputs": [
    {
     "name": "stdout",
     "output_type": "stream",
     "text": [
      "['289111600172', '289111600236', '289111600754', '289111600893', '289111601087', '289111601116', '289111601247', '289111601255', '289111601271', '289111700552', '289111700624', '289111700632', '289111700683', '289111701045', '289111701184', '289111701272', '289111701475', '289111701643', '289111701854', '289111701918', '289111800027', '289111800043', '289111800094', '289111800166', '289111800422', '289111800844', '289111800895', '289111801054', '289111801126', '289111801548', '289111801732', '289111801847', '289111801943', '289111900204', '289111900407', '289111900642', '289111900845', '289111901178', '289111901223', '289111901514', '289111901573', '289112000224', '289112000232', '289112000371']\n"
     ]
    }
   ],
   "source": [
    "\n",
    "\n",
    "dir_list = next(os.walk('s3_samples'))[1]\n"
   ]
  },
  {
   "cell_type": "code",
   "execution_count": 23,
   "metadata": {},
   "outputs": [],
   "source": [
    "df = pd.read_excel('data_3427.xlsx')"
   ]
  },
  {
   "cell_type": "markdown",
   "metadata": {},
   "source": []
  },
  {
   "cell_type": "code",
   "execution_count": 24,
   "metadata": {},
   "outputs": [],
   "source": [
    "membid = df['FF_MemberId']\n",
    "photoid = df['photoid']\n",
    "urls = df['picture']\n",
    "nationalid = urls[0].split('/')[0]\n",
    "\n"
   ]
  },
  {
   "cell_type": "code",
   "execution_count": 25,
   "metadata": {},
   "outputs": [
    {
     "ename": "",
     "evalue": "",
     "output_type": "error",
     "traceback": [
      "\u001b[1;31mThe Kernel crashed while executing code in the the current cell or a previous cell. Please review the code in the cell(s) to identify a possible cause of the failure. Click <a href='https://aka.ms/vscodeJupyterKernelCrash'>here</a> for more info. View Jupyter <a href='command:jupyter.viewOutput'>log</a> for further details."
     ]
    }
   ],
   "source": [
    "for dir in dir_list:\n",
    "    for i in range(0,len(urls)):\n",
    "        #print(urls[i])\n",
    "        try:\n",
    "\n",
    "            url_part = str(urls[i]).split('/')\n",
    "\n",
    "            if dir == url_part[0]:\n",
    "                filename = \"images_new/\" + str(membid[i]) + \"/Thumbnail/\" + str(photoid[i]) + \".\" +  url_part[1].split('.')[-1]\n",
    "                if not os.path.exists(\"images_new/\" + str(membid[i]) + \"/Thumbnail\"):\n",
    "                    os.makedirs(\"images_new/\" + str(membid[i]) + \"/Thumbnail\")\n",
    "\n",
    "                os.replace(\"S3_Samples/\"+ urls[i], \"images_new/\" + str(membid[i]) + \"/Thumbnail/\" + url_part[1])\n",
    "\n",
    "                os.rename(\"images_new/\" + str(membid[i]) + \"/Thumbnail/\" + url_part[1],\"images_new/\" + str(membid[i]) + \"/Thumbnail/\" + str(photoid[i]) + \".\" +  url_part[1].split('.')[-1])\n",
    "        except:\n",
    "            pass\n",
    "        \n",
    "\n",
    "        \n",
    "\n",
    "\n"
   ]
  },
  {
   "cell_type": "code",
   "execution_count": 6,
   "metadata": {},
   "outputs": [],
   "source": [
    "'''\n",
    "from selenium import webdriver\n",
    "from selenium.webdriver.firefox.options import Options\n",
    "from selenium.webdriver.common.by import By\n",
    "import shutil\n",
    "import time\n",
    "import json\n",
    "\n",
    "'''"
   ]
  },
  {
   "cell_type": "code",
   "execution_count": 7,
   "metadata": {},
   "outputs": [
    {
     "name": "stderr",
     "output_type": "stream",
     "text": [
      "C:\\Users\\Hasnain\\AppData\\Local\\Temp\\ipykernel_27396\\3146039485.py:11: DeprecationWarning: headless property is deprecated, instead use add_argument('-headless')\n",
      "  option.headless = False\n"
     ]
    }
   ],
   "source": [
    "'''\n",
    "membid = df['FF_MemberId']\n",
    "photoid = df['photoid']\n",
    "urls = df['picture']\n",
    "\n",
    "baseurl = 'https://s3.eu-west-1.amazonaws.com/oxygengym/media/customer/'\n",
    "\n",
    "for i in range(0,len(urls)):\n",
    "    try:\n",
    "        url = urls[i]\n",
    "        option = Options()\n",
    "        option.headless = False\n",
    "        driver = webdriver.Firefox(options=option)\n",
    "        driver.implicitly_wait(4)\n",
    "        driver.get(f\"{baseurl}{url}\")\n",
    "        time.sleep(3)\n",
    "        link_url = f\"{baseurl}{url}\"\n",
    "        url_part = url.split('/')\n",
    "\n",
    "        filename = \"images/\" + str(membid[i]) + \"/Thumbnail/\" + str(photoid[i]) + \".\" +  url_part[1].split('.')[-1]\n",
    "\n",
    "        if not os.path.exists(\"images/\" + str(membid[i]) + \"/Thumbnail\"):\n",
    "            os.makedirs(\"images/\" + str(membid[i]) + \"/Thumbnail\")\n",
    "        urllib.request.urlretrieve(link_url, filename)\n",
    "        driver. close()\n",
    "    except:\n",
    "        pass\n",
    "'''"
   ]
  },
  {
   "cell_type": "code",
   "execution_count": null,
   "metadata": {},
   "outputs": [],
   "source": []
  },
  {
   "cell_type": "code",
   "execution_count": null,
   "metadata": {},
   "outputs": [],
   "source": []
  },
  {
   "cell_type": "code",
   "execution_count": null,
   "metadata": {},
   "outputs": [],
   "source": []
  },
  {
   "cell_type": "code",
   "execution_count": null,
   "metadata": {},
   "outputs": [],
   "source": []
  }
 ],
 "metadata": {
  "kernelspec": {
   "display_name": "Python 3",
   "language": "python",
   "name": "python3"
  },
  "language_info": {
   "codemirror_mode": {
    "name": "ipython",
    "version": 3
   },
   "file_extension": ".py",
   "mimetype": "text/x-python",
   "name": "python",
   "nbconvert_exporter": "python",
   "pygments_lexer": "ipython3",
   "version": "3.10.0"
  },
  "orig_nbformat": 4
 },
 "nbformat": 4,
 "nbformat_minor": 2
}
